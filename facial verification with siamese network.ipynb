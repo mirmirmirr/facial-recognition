{
 "cells": [
  {
   "cell_type": "code",
   "execution_count": null,
   "id": "4d2d77f5-9138-4708-96a7-83c43b606c22",
   "metadata": {},
   "outputs": [],
   "source": [
    "pip list"
   ]
  },
  {
   "cell_type": "code",
   "execution_count": null,
   "id": "138e7d9b-aee8-465f-9e8f-cda7cb5b9add",
   "metadata": {},
   "outputs": [],
   "source": [
    "!pip install matplotlib"
   ]
  },
  {
   "cell_type": "code",
   "execution_count": 6,
   "id": "8adf9201-6a88-4320-bda3-9a367ef57385",
   "metadata": {},
   "outputs": [],
   "source": [
    "# dependencies\n",
    "import cv2\n",
    "import os\n",
    "import random\n",
    "import numpy as mp\n",
    "from matplotlib import pyplot as plt"
   ]
  },
  {
   "cell_type": "code",
   "execution_count": 7,
   "id": "cce3c194-e68f-479b-acca-540866950468",
   "metadata": {},
   "outputs": [],
   "source": [
    "# tensorflow dependencies (model compenents and deep learning components)\n",
    "# using tensorflow funcational api\n",
    "import tensorflow as tf\n",
    "from keras.models import Model\n",
    "from keras.layers import Layer, Conv2D, Dense, MaxPooling2D, Input, Flatten"
   ]
  },
  {
   "cell_type": "code",
   "execution_count": 8,
   "id": "8fc016aa",
   "metadata": {},
   "outputs": [],
   "source": [
    "# avoiding out of memory (OOM) errors by setting GPU Memory Consumption Growth\n",
    "gpu_list = tf.config.experimental.list_physical_devices('GPU')\n",
    "for gpu in gpu_list:\n",
    "    tf.config.experimental.set_memory_growth(gpu, True)"
   ]
  },
  {
   "cell_type": "code",
   "execution_count": 9,
   "id": "8453f620",
   "metadata": {},
   "outputs": [],
   "source": [
    "# setup paths\n",
    "POS_PATH = os.path.join('data', 'positive')\n",
    "NEG_PATH = os.path.join('data', 'negative')\n",
    "ANC_PATH = os.path.join('data', 'anchor')"
   ]
  },
  {
   "cell_type": "code",
   "execution_count": 1,
   "id": "cecddb17",
   "metadata": {},
   "outputs": [],
   "source": [
    "!tar -xf lfw.tgz"
   ]
  },
  {
   "cell_type": "code",
   "execution_count": 9,
   "id": "281f8fa7",
   "metadata": {},
   "outputs": [],
   "source": [
    "for directory in os.listdir('lfw'):\n",
    "    for file in os.listdir(os.path.join('lfw', directory)):\n",
    "        EX_PATH = os.path.join('lfw', directory, file)\n",
    "        NEW_PATH = os.path.join(NEG_PATH, file)\n",
    "        os.replace(EX_PATH, NEW_PATH)"
   ]
  },
  {
   "cell_type": "code",
   "execution_count": 10,
   "id": "382a0737",
   "metadata": {},
   "outputs": [],
   "source": [
    "import uuid"
   ]
  },
  {
   "cell_type": "code",
   "execution_count": 5,
   "id": "5226a71d",
   "metadata": {},
   "outputs": [],
   "source": [
    "# establishing connection to webcam and using webcam\n",
    "cap = cv2.VideoCapture(0)\n",
    "while cap.isOpened():\n",
    "    ret, frame = cap.read()\n",
    "\n",
    "    # cutting down the frame to be 250X250px\n",
    "    frame = frame[120:120+250, 250:250+250, :]\n",
    "\n",
    "    # collecting achors and postives\n",
    "    if cv2.waitKey(1) & 0XFF == ord('a'):\n",
    "        img = os.path.join(ANC_PATH, '{}.jpg'.format(uuid.uuid1()))\n",
    "        cv2.imwrite(img, frame)\n",
    "\n",
    "    if cv2.waitKey(1) & 0XFF == ord('p'):\n",
    "        img = os.path.join(POS_PATH, '{}.jpg'.format(uuid.uuid1()))\n",
    "        cv2.imwrite(img, frame)\n",
    "\n",
    "    cv2.imshow('Image Collection', frame)\n",
    "\n",
    "    if cv2.waitKey(1) & 0XFF == ord('q'):\n",
    "        break\n",
    "    \n",
    "cap.release()\n",
    "cv2.destroyAllWindows()"
   ]
  },
  {
   "cell_type": "code",
   "execution_count": null,
   "id": "05a984e9",
   "metadata": {},
   "outputs": [],
   "source": [
    "anchor_images = os."
   ]
  },
  {
   "cell_type": "code",
   "execution_count": 11,
   "id": "4d54f872",
   "metadata": {},
   "outputs": [
    {
     "data": {
      "text/plain": [
       "'\\n    accessing the dataset iterator: dir_txt = anchor.as_numpy_iterator() \\n    going through each file in the dataset: dir_test.next()\\n'"
      ]
     },
     "execution_count": 11,
     "metadata": {},
     "output_type": "execute_result"
    }
   ],
   "source": [
    "# getting image directories\n",
    "\n",
    "## creating data sets from the respective data folders randomly\n",
    "anchor = tf.data.Dataset.list_files(ANC_PATH+'\\*.jpg').take(300)\n",
    "postive = tf.data.Dataset.list_files(POS_PATH+'\\*.jpg').take(300)\n",
    "negative = tf.data.Dataset.list_files(NEG_PATH+'\\*.jpg').take(300)\n",
    "\n",
    "'''\n",
    "    accessing the dataset iterator: dir_txt = anchor.as_numpy_iterator() \n",
    "    going through each file in the dataset: dir_test.next()\n",
    "'''"
   ]
  },
  {
   "cell_type": "code",
   "execution_count": 12,
   "id": "d037c391",
   "metadata": {},
   "outputs": [],
   "source": [
    "# image preprocessing - scaling and resizing\n",
    "\n",
    "''' \n",
    "ultimate goal/usage of preprocess funtion: dataset.map(preprocess)\n",
    "    this will allow the program to go through each image in the datasets created from the data folders\n",
    "\n",
    "returns the numpy equivalent of the image\n",
    "'''\n",
    "def preprocess(filePath):\n",
    "    image = tf.io.read_file(filePath)\n",
    "    img = tf.io.decode_jpeg(image)\n",
    "\n",
    "    # preprocessing -resizing to be 100x100x3 (pixels, pixels, channels)\n",
    "    img = tf.image.resize(img, (100, 100))\n",
    "\n",
    "    # scaling image to be between 0 and 1\n",
    "    ## traditonally, alll pixel values are between 0 and 255\n",
    "    img = img/255.0\n",
    "    \n",
    "    return img\n"
   ]
  },
  {
   "cell_type": "code",
   "execution_count": 16,
   "id": "9045229d",
   "metadata": {},
   "outputs": [],
   "source": [
    "# creating labeled dataset\n",
    "''' \n",
    "(anchor, postive) => 1,1,1,1,1      creating a \"right\" dataset\n",
    "(anchor, negative) => 0,0,0,0,0     creating a \"wrong\" dataset\n",
    "\n",
    "data form: \n",
    "<_ConcatenateDataset element_spec=(TensorSpec(shape=(), dtype=tf.string, name=None), TensorSpec(shape=(), dtype=tf.string, name=None), TensorSpec(shape=(), dtype=tf.float32, name=None))>\n",
    "\n",
    "    shape:  ((), (), ())\n",
    "    type:   (tf.string, tf.string, tf.float32)\n",
    "            (anc filepath, pos/neg filepath, verification of 1 or 0 respectively)\n",
    "\n",
    "'''\n",
    "\n",
    "pos = tf.data.Dataset.zip((anchor, postive, tf.data.Dataset.from_tensor_slices(tf.ones(len(anchor)))))\n",
    "neg = tf.data.Dataset.zip((anchor, negative, tf.data.Dataset.from_tensor_slices(tf.zeros(len(anchor)))))\n",
    "data = pos.concatenate(neg)"
   ]
  },
  {
   "cell_type": "code",
   "execution_count": 17,
   "id": "223b6e69",
   "metadata": {},
   "outputs": [],
   "source": [
    "'''\n",
    "usage:\n",
    "ex = data.as_numpy_iterator()\n",
    "ample = ex.next()\n",
    "preprocess_twin(*ample)\n",
    "'''\n",
    "\n",
    "def preprocess_twin(input, validation, label):\n",
    "    return (preprocess(input), preprocess(validation), label)"
   ]
  },
  {
   "cell_type": "code",
   "execution_count": 18,
   "id": "1d4379ca",
   "metadata": {},
   "outputs": [],
   "source": [
    "# building data pipeline\n",
    "data = data.map(preprocess_twin)\n",
    "data = data.cache()\n",
    "data = data.shuffle(buffer_size=1024)"
   ]
  },
  {
   "cell_type": "code",
   "execution_count": 19,
   "id": "17094799",
   "metadata": {},
   "outputs": [],
   "source": [
    "# training partition\n",
    "trained = data.take(round(len(data)*.7))\n",
    "trained = trained.batch(16)\n",
    "trained = trained.prefetch(8)\n"
   ]
  },
  {
   "cell_type": "code",
   "execution_count": 20,
   "id": "6e8abc5d",
   "metadata": {},
   "outputs": [],
   "source": [
    "# testing partition\n",
    "tested = data.skip(round(len(data)*.7))     # skipping the first 70% of images so we don't take any form trained sample\n",
    "tested = tested.take(round(len(data)*.3))   # taking the last 30% of images for the testing sample\n",
    "tested = tested.batch(16)\n",
    "tested = tested.prefetch(8)"
   ]
  },
  {
   "cell_type": "markdown",
   "id": "c7d90257",
   "metadata": {},
   "source": [
    "### model"
   ]
  },
  {
   "cell_type": "code",
   "execution_count": 21,
   "id": "b016b61e",
   "metadata": {},
   "outputs": [],
   "source": [
    "def embedding():\n",
    "    input = Input(shape=(100, 100, 3), name='input_image')\n",
    "\n",
    "    # core block 1\n",
    "    conv1 = Conv2D(64, (10, 10), activation='relu')(input)\n",
    "    mp1 = MaxPooling2D(64, (2,2), padding='same')(conv1)\n",
    "\n",
    "    # core block 2\n",
    "    conv2 = Conv2D(128, (7, 7), activation='relu')(mp1)\n",
    "    mp2 = MaxPooling2D(64, (2,2), padding='same')(conv2)\n",
    "\n",
    "    # core block 3\n",
    "    conv3 = Conv2D(128, (4, 4), activation='relu')(mp2)\n",
    "    mp3 = MaxPooling2D(64, (2,2), padding='same')(conv3)\n",
    "\n",
    "    # core block 4\n",
    "    conv4 = Conv2D(256, (4, 4), activation='relu')(mp3)\n",
    "    f1 = Flatten()(conv4)\n",
    "    d1 = Dense(4096, activation='sigmoid')(f1)\n",
    "\n",
    "    return Model(inputs=[input], outputs=[d1], name='embedding' )"
   ]
  },
  {
   "cell_type": "code",
   "execution_count": 22,
   "id": "dc6d1a30",
   "metadata": {},
   "outputs": [],
   "source": [
    "model = embedding()"
   ]
  },
  {
   "cell_type": "code",
   "execution_count": 23,
   "id": "2c87ffb3",
   "metadata": {},
   "outputs": [
    {
     "name": "stdout",
     "output_type": "stream",
     "text": [
      "Model: \"embedding\"\n",
      "_________________________________________________________________\n",
      " Layer (type)                Output Shape              Param #   \n",
      "=================================================================\n",
      " input_image (InputLayer)    [(None, 100, 100, 3)]     0         \n",
      "                                                                 \n",
      " conv2d (Conv2D)             (None, 91, 91, 64)        19264     \n",
      "                                                                 \n",
      " max_pooling2d (MaxPooling2D  (None, 46, 46, 64)       0         \n",
      " )                                                               \n",
      "                                                                 \n",
      " conv2d_1 (Conv2D)           (None, 40, 40, 128)       401536    \n",
      "                                                                 \n",
      " max_pooling2d_1 (MaxPooling  (None, 20, 20, 128)      0         \n",
      " 2D)                                                             \n",
      "                                                                 \n",
      " conv2d_2 (Conv2D)           (None, 17, 17, 128)       262272    \n",
      "                                                                 \n",
      " max_pooling2d_2 (MaxPooling  (None, 9, 9, 128)        0         \n",
      " 2D)                                                             \n",
      "                                                                 \n",
      " conv2d_3 (Conv2D)           (None, 6, 6, 256)         524544    \n",
      "                                                                 \n",
      " flatten (Flatten)           (None, 9216)              0         \n",
      "                                                                 \n",
      " dense (Dense)               (None, 4096)              37752832  \n",
      "                                                                 \n",
      "=================================================================\n",
      "Total params: 38,960,448\n",
      "Trainable params: 38,960,448\n",
      "Non-trainable params: 0\n",
      "_________________________________________________________________\n"
     ]
    }
   ],
   "source": [
    "model.summary()"
   ]
  },
  {
   "cell_type": "code",
   "execution_count": 24,
   "id": "671d075f",
   "metadata": {},
   "outputs": [],
   "source": [
    "# custom neural network layer\n",
    "\n",
    "# Siamese L1 Distance class\n",
    "class L1Dist(Layer):\n",
    "    def __init__(self, **kwargs):\n",
    "        super().__init__()\n",
    "    \n",
    "    def call(self, input_embedding, validation_embedding):\n",
    "        return tf.math.abs(input_embedding - validation_embedding)"
   ]
  },
  {
   "cell_type": "code",
   "execution_count": 25,
   "id": "553ad68c",
   "metadata": {},
   "outputs": [],
   "source": [
    "def make_model():\n",
    "\n",
    "    # inputs\n",
    "    input = Input(name='input_img', shape=(100, 100, 3))\n",
    "    validation = Input(name='validation_img', shape=(100, 100, 3))\n",
    "\n",
    "    # combine siamese distance components\n",
    "    siamese_layer = L1Dist()\n",
    "    siamese_layer._name = 'distance'\n",
    "    distances = siamese_layer(model(input), model(validation))\n",
    "\n",
    "    # classification layer\n",
    "    classifier = Dense(1, activation='sigmoid')(distances)\n",
    "\n",
    "    return Model(inputs=[input, validation], outputs=classifier, name='SiameseCat')"
   ]
  },
  {
   "cell_type": "code",
   "execution_count": 26,
   "id": "bb5d7838",
   "metadata": {},
   "outputs": [
    {
     "name": "stdout",
     "output_type": "stream",
     "text": [
      "Model: \"SiameseCat\"\n",
      "__________________________________________________________________________________________________\n",
      " Layer (type)                   Output Shape         Param #     Connected to                     \n",
      "==================================================================================================\n",
      " input_img (InputLayer)         [(None, 100, 100, 3  0           []                               \n",
      "                                )]                                                                \n",
      "                                                                                                  \n",
      " validation_img (InputLayer)    [(None, 100, 100, 3  0           []                               \n",
      "                                )]                                                                \n",
      "                                                                                                  \n",
      " embedding (Functional)         (None, 4096)         38960448    ['input_img[0][0]',              \n",
      "                                                                  'validation_img[0][0]']         \n",
      "                                                                                                  \n",
      " distance (L1Dist)              (None, 4096)         0           ['embedding[0][0]',              \n",
      "                                                                  'embedding[1][0]']              \n",
      "                                                                                                  \n",
      " dense_1 (Dense)                (None, 1)            4097        ['distance[0][0]']               \n",
      "                                                                                                  \n",
      "==================================================================================================\n",
      "Total params: 38,964,545\n",
      "Trainable params: 38,964,545\n",
      "Non-trainable params: 0\n",
      "__________________________________________________________________________________________________\n"
     ]
    }
   ],
   "source": [
    "siamese_model = make_model()\n",
    "siamese_model.summary()"
   ]
  },
  {
   "cell_type": "markdown",
   "id": "73cbb7e8",
   "metadata": {},
   "source": [
    "### training"
   ]
  },
  {
   "cell_type": "code",
   "execution_count": 27,
   "id": "58eac36c",
   "metadata": {},
   "outputs": [],
   "source": [
    "# setting up loss and optimizer\n",
    "binary_cross_loss = tf.losses.BinaryCrossentropy()\n",
    "opt = tf.keras.optimizers.Adam(1e-4)"
   ]
  },
  {
   "cell_type": "code",
   "execution_count": 28,
   "id": "db7523c2",
   "metadata": {},
   "outputs": [],
   "source": [
    "# checkpoint callbacks incase there are problems with training\n",
    "checkpoint_dir = './training_checkpoints'\n",
    "checkpoint_prefix = os.path.join(checkpoint_dir, 'ckpt')\n",
    "checkpoint = tf.train.Checkpoint(opt = opt, siamese_model=siamese_model)"
   ]
  },
  {
   "cell_type": "code",
   "execution_count": 29,
   "id": "29359d25",
   "metadata": {},
   "outputs": [],
   "source": [
    "# build train step function\n",
    "@tf.function\n",
    "def train_step(batch):\n",
    "\n",
    "    with tf.GradientTape() as tape:\n",
    "        # get anchor and pos/neg image\n",
    "        X = batch[:2]\n",
    "        # get label\n",
    "        y = batch[2]\n",
    "\n",
    "        # forward pass\n",
    "        yhat = siamese_model(X, training=True)\n",
    "        # calculate loss\n",
    "        loss = binary_cross_loss(y, yhat)\n",
    "    \n",
    "    # calculate gradients\n",
    "    grad = tape.gradient(loss, siamese_model.trainable_variables)\n",
    "\n",
    "    # calculate weights and apply to model\n",
    "    opt.apply_gradients(zip(grad, siamese_model.trainable_variables))\n",
    "\n",
    "    return loss"
   ]
  },
  {
   "cell_type": "code",
   "execution_count": 30,
   "id": "766c24db",
   "metadata": {},
   "outputs": [],
   "source": [
    "# training\n",
    "def train(data, EPOCHS):\n",
    "\n",
    "    # loop through epochs\n",
    "    for epoch in range(1, EPOCHS+1):\n",
    "        print('\\n Epoch {}/{}'.format(epoch, EPOCHS))\n",
    "        progbar = tf.keras.utils.Progbar(len(data))\n",
    "\n",
    "        # oop through batches\n",
    "        for idx, batch in enumerate(data):\n",
    "            train_step(batch)\n",
    "            progbar.update(idx+1)\n",
    "\n",
    "        # save checkpoints\n",
    "        if epoch % 10 == 0:\n",
    "            checkpoint.save(file_prefix = checkpoint_prefix)"
   ]
  },
  {
   "cell_type": "code",
   "execution_count": 31,
   "id": "9bc67d1a",
   "metadata": {},
   "outputs": [],
   "source": [
    "EPOCHS = 50"
   ]
  },
  {
   "cell_type": "code",
   "execution_count": null,
   "id": "7f13f7c5",
   "metadata": {},
   "outputs": [],
   "source": []
  }
 ],
 "metadata": {
  "kernelspec": {
   "display_name": "Python 3 (ipykernel)",
   "language": "python",
   "name": "python3"
  },
  "language_info": {
   "codemirror_mode": {
    "name": "ipython",
    "version": 3
   },
   "file_extension": ".py",
   "mimetype": "text/x-python",
   "name": "python",
   "nbconvert_exporter": "python",
   "pygments_lexer": "ipython3",
   "version": "3.11.1"
  }
 },
 "nbformat": 4,
 "nbformat_minor": 5
}
